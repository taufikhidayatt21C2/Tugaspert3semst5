{
  "nbformat": 4,
  "nbformat_minor": 0,
  "metadata": {
    "colab": {
      "provenance": [],
      "authorship_tag": "ABX9TyPr+bH7tGzJthUF+uz394Ne",
      "include_colab_link": true
    },
    "kernelspec": {
      "name": "python3",
      "display_name": "Python 3"
    },
    "language_info": {
      "name": "python"
    }
  },
  "cells": [
    {
      "cell_type": "markdown",
      "metadata": {
        "id": "view-in-github",
        "colab_type": "text"
      },
      "source": [
        "<a href=\"https://colab.research.google.com/github/taufikhidayatt21C2/Tugaspert3semst5/blob/main/Taufik_Hidayat%2C312110066.ipynb\" target=\"_parent\"><img src=\"https://colab.research.google.com/assets/colab-badge.svg\" alt=\"Open In Colab\"/></a>"
      ]
    },
    {
      "cell_type": "code",
      "execution_count": null,
      "metadata": {
        "colab": {
          "base_uri": "https://localhost:8080/"
        },
        "id": "4v5CAdLzg37x",
        "outputId": "54d2ad69-91bb-4744-a739-7aed9ee6d3d5"
      },
      "outputs": [
        {
          "output_type": "stream",
          "name": "stdout",
          "text": [
            "Masukkan username: taufik\n",
            "Masukkan password: 12345\n",
            "Login berhasil.\n"
          ]
        }
      ],
      "source": [
        "def vigenere_cipher(text, key, mode):\n",
        "    result = \"\"\n",
        "    key_length = len(key)\n",
        "    for i in range(len(text)):\n",
        "        char = text[i]\n",
        "        if char.isalpha():\n",
        "            key_char = key[i % key_length]\n",
        "            if char.isupper():\n",
        "                shift = ord('A')\n",
        "            else:\n",
        "                shift = ord('a')\n",
        "            if mode == 'encrypt':\n",
        "                result += chr((ord(char) - shift + ord(key_char) - shift) % 26 + shift)\n",
        "            elif mode == 'decrypt':\n",
        "                result += chr((ord(char) - shift - (ord(key_char) - shift)) % 26 + shift)\n",
        "        else:\n",
        "            result += char\n",
        "    return result\n",
        "\n",
        "def create_account(username, password, key):\n",
        "    # Enkripsi password dengan Vigenere Cipher\n",
        "    encrypted_password = vigenere_cipher(password, key, 'encrypt')\n",
        "\n",
        "    # Simpan username dan password terenkripsi ke database atau file\n",
        "    user_data = f\"{username}:{encrypted_password}\\n\"\n",
        "    with open(\"user_database.txt\", \"a\") as file:\n",
        "        file.write(user_data)\n",
        "\n",
        "def login(username, password, key):\n",
        "    # Baca data dari database atau file\n",
        "    with open(\"user_database.txt\", \"r\") as file:\n",
        "        for line in file:\n",
        "            stored_username, stored_password = line.strip().split(':')\n",
        "            if username == stored_username:\n",
        "                # Dekripsi password terenkripsi dari database\n",
        "                decrypted_password = vigenere_cipher(stored_password, key, 'decrypt')\n",
        "                if password == decrypted_password:\n",
        "                    return True\n",
        "    return False\n",
        "\n",
        "# Contoh penggunaan:\n",
        "key = \"kunci_vigenere\"\n",
        "username = \"taufik\"\n",
        "password = \"12345\"\n",
        "\n",
        "# Registrasi akun\n",
        "create_account(username, password, key)\n",
        "\n",
        "# Verifikasi login\n",
        "login_username = input(\"Masukkan username: \")\n",
        "login_password = input(\"Masukkan password: \")\n",
        "\n",
        "if login(login_username, login_password, key):\n",
        "    print(\"Login berhasil.\")\n",
        "else:\n",
        "    print(\"Login gagal.\")"
      ]
    }
  ]
}